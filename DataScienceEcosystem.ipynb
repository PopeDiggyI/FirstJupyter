{
 "cells": [
  {
   "cell_type": "markdown",
   "id": "82fbda85-162a-430f-b4ea-4e6e0c080290",
   "metadata": {},
   "source": [
    "# Data Science Tools and Ecosystem"
   ]
  },
  {
   "cell_type": "markdown",
   "id": "b1dbd00b-e5ab-4559-8739-3b261a01b417",
   "metadata": {},
   "source": [
    "In this notebook, Data Science Tools and Ecosystem are summarized."
   ]
  },
  {
   "cell_type": "markdown",
   "id": "8b750da8-ed45-4405-8406-1ffacd5cd7cd",
   "metadata": {},
   "source": [
    "## Author\n",
    "DJ Mann\n",
    "\n",
    "### Objectives\n",
    "\n",
    "- List populdar data science languages\n",
    "- List commonly used data science libraries\n",
    "- List data science tools\n",
    "- Create a Jupyter Notebook with Markdown and Code cells"
   ]
  },
  {
   "cell_type": "markdown",
   "id": "bbc670f7-1d53-4a1f-91bd-c4048800af38",
   "metadata": {},
   "source": [
    "### Some of the popular languages that Data Scientists use are:\n",
    "\n",
    "1. R\n",
    "2. Python\n",
    "3. Julia\n",
    "4. SQL\n",
    "5. Scala"
   ]
  },
  {
   "cell_type": "markdown",
   "id": "84eee2ed-90a6-4e79-b0e8-45fc00836628",
   "metadata": {},
   "source": [
    "### Some of the commonly used libraries used by Data Scientists include:\n",
    "\n",
    "1. ggplot2\n",
    "2. pandas\n",
    "3. matplotolib\n",
    "4. seaborn\n",
    "5. plotly"
   ]
  },
  {
   "cell_type": "markdown",
   "id": "7403dfae-bfa7-4a4a-9561-dc058b883a27",
   "metadata": {},
   "source": [
    "### Data Science Tools\n",
    "\n",
    "| Data Science Tools|\n",
    "--------------------\n",
    "|   VS Code     |\n",
    "|   Anaconda     |\n",
    "|   JupyterLab   |"
   ]
  },
  {
   "cell_type": "markdown",
   "id": "e0b76cc5-0d9b-4c20-885a-23c1ff353712",
   "metadata": {},
   "source": [
    "### Below are a few examples of evaluating arithmetic expressions in Python"
   ]
  },
  {
   "cell_type": "code",
   "execution_count": 4,
   "id": "5362252a-6b23-4b62-8d92-c52991149bdf",
   "metadata": {},
   "outputs": [
    {
     "data": {
      "text/plain": [
       "17"
      ]
     },
     "execution_count": 4,
     "metadata": {},
     "output_type": "execute_result"
    }
   ],
   "source": [
    "#This a simple arithmetic expression to mutiply then add integer\n",
    "(3*4)+5"
   ]
  },
  {
   "cell_type": "code",
   "execution_count": 7,
   "id": "5e0c0f1f-08e6-4346-adc1-8e317df18fba",
   "metadata": {},
   "outputs": [
    {
     "name": "stdout",
     "output_type": "stream",
     "text": [
      "3.3333333333333335 Hours\n"
     ]
    }
   ],
   "source": [
    "# This will convert 200 minutes to hours by diving by 60\n",
    "x=200\n",
    "y=x/60\n",
    "print(str(y)+\" Hours\")"
   ]
  },
  {
   "cell_type": "code",
   "execution_count": null,
   "id": "0fc894f7-2501-421a-8d09-76a78dcf322f",
   "metadata": {},
   "outputs": [],
   "source": []
  }
 ],
 "metadata": {
  "kernelspec": {
   "display_name": "Python 3 (ipykernel)",
   "language": "python",
   "name": "python3"
  },
  "language_info": {
   "codemirror_mode": {
    "name": "ipython",
    "version": 3
   },
   "file_extension": ".py",
   "mimetype": "text/x-python",
   "name": "python",
   "nbconvert_exporter": "python",
   "pygments_lexer": "ipython3",
   "version": "3.8.17"
  }
 },
 "nbformat": 4,
 "nbformat_minor": 5
}
